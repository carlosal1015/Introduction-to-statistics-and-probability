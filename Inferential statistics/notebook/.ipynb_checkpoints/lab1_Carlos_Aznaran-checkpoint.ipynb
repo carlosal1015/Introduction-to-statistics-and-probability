{
 "cells": [
  {
   "cell_type": "markdown",
   "metadata": {},
   "source": [
    "Curso: Estadística Inferencial\n",
    "\n",
    "Nombre: Carlos Aznarán Laos."
   ]
  },
  {
   "cell_type": "markdown",
   "metadata": {},
   "source": [
    "# Pregunta 1\n",
    "\n",
    "Defina una matriz de nombre `AA` de tamaño $4\\times 4$ con números seleccionados por usted. Responda las siguientes preguntas, haciendo uso de los comandos de R.\n",
    "   - ¿Qué tipo de datos es `AA`?\n",
    "   - Puede modificar `AA` y crear otro tipo de datos."
   ]
  },
  {
   "cell_type": "code",
   "execution_count": 26,
   "metadata": {},
   "outputs": [
    {
     "data": {
      "text/html": [
       "<table>\n",
       "<caption>A matrix: 4 × 4 of type dbl</caption>\n",
       "<thead>\n",
       "\t<tr><th></th><th scope=col>Columna 1</th><th scope=col>Columna 2</th><th scope=col>Columna 3</th><th scope=col>Columna 4</th></tr>\n",
       "</thead>\n",
       "<tbody>\n",
       "\t<tr><th scope=row>Fila 1</th><td> 0.3185269</td><td> 0.5056448</td><td> 0.54227644</td><td> 0.817890075</td></tr>\n",
       "\t<tr><th scope=row>Fila 2</th><td>-0.0670752</td><td>-2.0674223</td><td>-1.91319658</td><td>-0.221376504</td></tr>\n",
       "\t<tr><th scope=row>Fila 3</th><td> 0.2111016</td><td> 0.6578055</td><td>-0.46664196</td><td> 1.056838429</td></tr>\n",
       "\t<tr><th scope=row>Fila 4</th><td> 1.0293142</td><td> 1.8520556</td><td>-0.05966981</td><td>-0.002185648</td></tr>\n",
       "</tbody>\n",
       "</table>\n"
      ],
      "text/latex": [
       "A matrix: 4 × 4 of type dbl\n",
       "\\begin{tabular}{r|llll}\n",
       "  & Columna 1 & Columna 2 & Columna 3 & Columna 4\\\\\n",
       "\\hline\n",
       "\tFila 1 &  0.3185269 &  0.5056448 &  0.54227644 &  0.817890075\\\\\n",
       "\tFila 2 & -0.0670752 & -2.0674223 & -1.91319658 & -0.221376504\\\\\n",
       "\tFila 3 &  0.2111016 &  0.6578055 & -0.46664196 &  1.056838429\\\\\n",
       "\tFila 4 &  1.0293142 &  1.8520556 & -0.05966981 & -0.002185648\\\\\n",
       "\\end{tabular}\n"
      ],
      "text/markdown": [
       "\n",
       "A matrix: 4 × 4 of type dbl\n",
       "\n",
       "| <!--/--> | Columna 1 | Columna 2 | Columna 3 | Columna 4 |\n",
       "|---|---|---|---|---|\n",
       "| Fila 1 |  0.3185269 |  0.5056448 |  0.54227644 |  0.817890075 |\n",
       "| Fila 2 | -0.0670752 | -2.0674223 | -1.91319658 | -0.221376504 |\n",
       "| Fila 3 |  0.2111016 |  0.6578055 | -0.46664196 |  1.056838429 |\n",
       "| Fila 4 |  1.0293142 |  1.8520556 | -0.05966981 | -0.002185648 |\n",
       "\n"
      ],
      "text/plain": [
       "       Columna 1  Columna 2  Columna 3   Columna 4   \n",
       "Fila 1  0.3185269  0.5056448  0.54227644  0.817890075\n",
       "Fila 2 -0.0670752 -2.0674223 -1.91319658 -0.221376504\n",
       "Fila 3  0.2111016  0.6578055 -0.46664196  1.056838429\n",
       "Fila 4  1.0293142  1.8520556 -0.05966981 -0.002185648"
      ]
     },
     "metadata": {},
     "output_type": "display_data"
    },
    {
     "name": "stdout",
     "output_type": "stream",
     "text": [
      "[1] \"El tipo de dato es\"\n",
      "[1] \"matrix\"\n",
      "[1] \"Hemos creado un\"\n",
      "[1] \"numeric\"\n",
      "[1] \"a partir de la matriz pedida.\"\n"
     ]
    },
    {
     "data": {
      "text/html": [
       "<ol class=list-inline>\n",
       "\t<li>0.318526901283447</li>\n",
       "\t<li>0.505644800846093</li>\n",
       "\t<li>0.542276444259627</li>\n",
       "\t<li>0.817890075294505</li>\n",
       "\t<li>0.318526901283447</li>\n",
       "\t<li>-0.0670752041313859</li>\n",
       "\t<li>0.211101615922744</li>\n",
       "\t<li>1.02931422500289</li>\n",
       "</ol>\n"
      ],
      "text/latex": [
       "\\begin{enumerate*}\n",
       "\\item 0.318526901283447\n",
       "\\item 0.505644800846093\n",
       "\\item 0.542276444259627\n",
       "\\item 0.817890075294505\n",
       "\\item 0.318526901283447\n",
       "\\item -0.0670752041313859\n",
       "\\item 0.211101615922744\n",
       "\\item 1.02931422500289\n",
       "\\end{enumerate*}\n"
      ],
      "text/markdown": [
       "1. 0.318526901283447\n",
       "2. 0.505644800846093\n",
       "3. 0.542276444259627\n",
       "4. 0.817890075294505\n",
       "5. 0.318526901283447\n",
       "6. -0.0670752041313859\n",
       "7. 0.211101615922744\n",
       "8. 1.02931422500289\n",
       "\n",
       "\n"
      ],
      "text/plain": [
       "[1]  0.3185269  0.5056448  0.5422764  0.8178901  0.3185269 -0.0670752  0.2111016\n",
       "[8]  1.0293142"
      ]
     },
     "metadata": {},
     "output_type": "display_data"
    }
   ],
   "source": [
    "numbers = rnorm(16)\n",
    "AA = matrix(\n",
    "    data = numbers,\n",
    "    nrow = 4,\n",
    "    ncol = 4,\n",
    "    byrow = TRUE,\n",
    "    dimnames = list(\n",
    "        c(\"Fila 1\", \"Fila 2\", \"Fila 3\", \"Fila 4\"),\n",
    "        c(\"Columna 1\", \"Columna 2\", \"Columna 3\", \"Columna 4\")\n",
    "    )\n",
    ")\n",
    "AA\n",
    "print(\"El tipo de dato es\")\n",
    "print(class(AA))\n",
    "new_object <- as.vector(c(AA[1, ], AA[ , 1]))\n",
    "print(\"Hemos creado un\")\n",
    "print(class(new_object))\n",
    "print(\"a partir de la matriz pedida.\")\n",
    "new_object"
   ]
  },
  {
   "cell_type": "markdown",
   "metadata": {},
   "source": [
    "# Pregunta 2\n",
    "\n",
    "Defina un factor en base alguna variable estadística que desee caracterizar usted.\n",
    "   - Describa la variable a presentar y por qué desea caracterizarla.\n",
    "   - Cargue datos para usar el factor que define.\n",
    "   - ¿Qué indican sus resultados?"
   ]
  },
  {
   "cell_type": "markdown",
   "metadata": {},
   "source": [
    "Se va a definir la variable estadística cualitativa `civil` porque se desea conocer el estado civil de ciertas personas."
   ]
  },
  {
   "cell_type": "code",
   "execution_count": 1,
   "metadata": {},
   "outputs": [
    {
     "data": {
      "text/html": [
       "<ol class=list-inline>\n",
       "\t<li>C</li>\n",
       "\t<li>S</li>\n",
       "\t<li>C</li>\n",
       "\t<li>S</li>\n",
       "\t<li>C</li>\n",
       "\t<li>S</li>\n",
       "\t<li>S</li>\n",
       "</ol>\n",
       "\n",
       "<details>\n",
       "\t<summary style=display:list-item;cursor:pointer>\n",
       "\t\t<strong>Levels</strong>:\n",
       "\t</summary>\n",
       "\t<ol class=list-inline>\n",
       "\t\t<li>'C'</li>\n",
       "\t\t<li>'S'</li>\n",
       "\t</ol>\n",
       "</details>"
      ],
      "text/latex": [
       "\\begin{enumerate*}\n",
       "\\item C\n",
       "\\item S\n",
       "\\item C\n",
       "\\item S\n",
       "\\item C\n",
       "\\item S\n",
       "\\item S\n",
       "\\end{enumerate*}\n",
       "\n",
       "\\emph{Levels}: \\begin{enumerate*}\n",
       "\\item 'C'\n",
       "\\item 'S'\n",
       "\\end{enumerate*}\n"
      ],
      "text/markdown": [
       "1. C\n",
       "2. S\n",
       "3. C\n",
       "4. S\n",
       "5. C\n",
       "6. S\n",
       "7. S\n",
       "\n",
       "\n",
       "\n",
       "**Levels**: 1. 'C'\n",
       "2. 'S'\n",
       "\n",
       "\n"
      ],
      "text/plain": [
       "[1] C S C S C S S\n",
       "Levels: C S"
      ]
     },
     "metadata": {},
     "output_type": "display_data"
    }
   ],
   "source": [
    "civil = c('C', 'S', 'C', 'S', 'C', 'S', 'S')\n",
    "my_factor = factor(civil, labels = c('C', 'S'))\n",
    "my_factor"
   ]
  },
  {
   "cell_type": "code",
   "execution_count": 2,
   "metadata": {},
   "outputs": [
    {
     "data": {
      "text/plain": [
       "my_factor\n",
       "C S \n",
       "3 4 "
      ]
     },
     "metadata": {},
     "output_type": "display_data"
    }
   ],
   "source": [
    "table(my_factor)"
   ]
  },
  {
   "cell_type": "markdown",
   "metadata": {},
   "source": [
    "Los resultados indican que tres personas son casadas y cuatro personas son solteras."
   ]
  },
  {
   "cell_type": "markdown",
   "metadata": {},
   "source": [
    "# Pregunta 3\n",
    "Defina tres matrices de nombre `A1`, `A2` y `A3` de tamaño $4\\times4$.\n",
    "   - Unir las matrices, en base a las formas enseñadas.\n",
    "   - Repetir esto creando `A1`, `A2` y `A3` para todos los tipos de datos posibles."
   ]
  },
  {
   "cell_type": "code",
   "execution_count": 14,
   "metadata": {},
   "outputs": [
    {
     "data": {
      "text/html": [
       "<table>\n",
       "<caption>A matrix: 4 × 4 of type int</caption>\n",
       "<thead>\n",
       "\t<tr><th></th><th scope=col>Columna 1</th><th scope=col>Columna 2</th><th scope=col>Columna 3</th><th scope=col>Columna 4</th></tr>\n",
       "</thead>\n",
       "<tbody>\n",
       "\t<tr><th scope=row>Fila 1</th><td>0</td><td>1</td><td>0</td><td>0</td></tr>\n",
       "\t<tr><th scope=row>Fila 2</th><td>0</td><td>1</td><td>1</td><td>0</td></tr>\n",
       "\t<tr><th scope=row>Fila 3</th><td>0</td><td>1</td><td>0</td><td>1</td></tr>\n",
       "\t<tr><th scope=row>Fila 4</th><td>0</td><td>0</td><td>0</td><td>0</td></tr>\n",
       "</tbody>\n",
       "</table>\n"
      ],
      "text/latex": [
       "A matrix: 4 × 4 of type int\n",
       "\\begin{tabular}{r|llll}\n",
       "  & Columna 1 & Columna 2 & Columna 3 & Columna 4\\\\\n",
       "\\hline\n",
       "\tFila 1 & 0 & 1 & 0 & 0\\\\\n",
       "\tFila 2 & 0 & 1 & 1 & 0\\\\\n",
       "\tFila 3 & 0 & 1 & 0 & 1\\\\\n",
       "\tFila 4 & 0 & 0 & 0 & 0\\\\\n",
       "\\end{tabular}\n"
      ],
      "text/markdown": [
       "\n",
       "A matrix: 4 × 4 of type int\n",
       "\n",
       "| <!--/--> | Columna 1 | Columna 2 | Columna 3 | Columna 4 |\n",
       "|---|---|---|---|---|\n",
       "| Fila 1 | 0 | 1 | 0 | 0 |\n",
       "| Fila 2 | 0 | 1 | 1 | 0 |\n",
       "| Fila 3 | 0 | 1 | 0 | 1 |\n",
       "| Fila 4 | 0 | 0 | 0 | 0 |\n",
       "\n"
      ],
      "text/plain": [
       "       Columna 1 Columna 2 Columna 3 Columna 4\n",
       "Fila 1 0         1         0         0        \n",
       "Fila 2 0         1         1         0        \n",
       "Fila 3 0         1         0         1        \n",
       "Fila 4 0         0         0         0        "
      ]
     },
     "metadata": {},
     "output_type": "display_data"
    },
    {
     "data": {
      "text/html": [
       "<table>\n",
       "<caption>A matrix: 4 × 4 of type dbl</caption>\n",
       "<thead>\n",
       "\t<tr><th></th><th scope=col>Columna 1</th><th scope=col>Columna 2</th><th scope=col>Columna 3</th><th scope=col>Columna 4</th></tr>\n",
       "</thead>\n",
       "<tbody>\n",
       "\t<tr><th scope=row>Fila 1</th><td> 2.276217</td><td>2.535151</td><td>0.1445701</td><td>4.2287076</td></tr>\n",
       "\t<tr><th scope=row>Fila 2</th><td> 1.806542</td><td>5.131484</td><td>1.0605231</td><td>0.8442221</td></tr>\n",
       "\t<tr><th scope=row>Fila 3</th><td>13.193682</td><td>1.747321</td><td>9.4858902</td><td>0.5143827</td></tr>\n",
       "\t<tr><th scope=row>Fila 4</th><td> 2.957842</td><td>5.315000</td><td>1.4519385</td><td>1.7614765</td></tr>\n",
       "</tbody>\n",
       "</table>\n"
      ],
      "text/latex": [
       "A matrix: 4 × 4 of type dbl\n",
       "\\begin{tabular}{r|llll}\n",
       "  & Columna 1 & Columna 2 & Columna 3 & Columna 4\\\\\n",
       "\\hline\n",
       "\tFila 1 &  2.276217 & 2.535151 & 0.1445701 & 4.2287076\\\\\n",
       "\tFila 2 &  1.806542 & 5.131484 & 1.0605231 & 0.8442221\\\\\n",
       "\tFila 3 & 13.193682 & 1.747321 & 9.4858902 & 0.5143827\\\\\n",
       "\tFila 4 &  2.957842 & 5.315000 & 1.4519385 & 1.7614765\\\\\n",
       "\\end{tabular}\n"
      ],
      "text/markdown": [
       "\n",
       "A matrix: 4 × 4 of type dbl\n",
       "\n",
       "| <!--/--> | Columna 1 | Columna 2 | Columna 3 | Columna 4 |\n",
       "|---|---|---|---|---|\n",
       "| Fila 1 |  2.276217 | 2.535151 | 0.1445701 | 4.2287076 |\n",
       "| Fila 2 |  1.806542 | 5.131484 | 1.0605231 | 0.8442221 |\n",
       "| Fila 3 | 13.193682 | 1.747321 | 9.4858902 | 0.5143827 |\n",
       "| Fila 4 |  2.957842 | 5.315000 | 1.4519385 | 1.7614765 |\n",
       "\n"
      ],
      "text/plain": [
       "       Columna 1 Columna 2 Columna 3 Columna 4\n",
       "Fila 1  2.276217 2.535151  0.1445701 4.2287076\n",
       "Fila 2  1.806542 5.131484  1.0605231 0.8442221\n",
       "Fila 3 13.193682 1.747321  9.4858902 0.5143827\n",
       "Fila 4  2.957842 5.315000  1.4519385 1.7614765"
      ]
     },
     "metadata": {},
     "output_type": "display_data"
    },
    {
     "data": {
      "text/html": [
       "<table>\n",
       "<caption>A matrix: 4 × 4 of type dbl</caption>\n",
       "<thead>\n",
       "\t<tr><th></th><th scope=col>Columna 1</th><th scope=col>Columna 2</th><th scope=col>Columna 3</th><th scope=col>Columna 4</th></tr>\n",
       "</thead>\n",
       "<tbody>\n",
       "\t<tr><th scope=row>Fila 1</th><td> 0.2269756</td><td> 0.6348878</td><td> 0.1877379</td><td> 0.6792353</td></tr>\n",
       "\t<tr><th scope=row>Fila 2</th><td> 2.0258648</td><td> 3.0213836</td><td> 4.4873507</td><td>17.0836731</td></tr>\n",
       "\t<tr><th scope=row>Fila 3</th><td>18.4251366</td><td>19.3634033</td><td> 4.6963759</td><td> 4.8120639</td></tr>\n",
       "\t<tr><th scope=row>Fila 4</th><td>53.5041682</td><td> 5.6860201</td><td>43.3990125</td><td>14.4513029</td></tr>\n",
       "</tbody>\n",
       "</table>\n"
      ],
      "text/latex": [
       "A matrix: 4 × 4 of type dbl\n",
       "\\begin{tabular}{r|llll}\n",
       "  & Columna 1 & Columna 2 & Columna 3 & Columna 4\\\\\n",
       "\\hline\n",
       "\tFila 1 &  0.2269756 &  0.6348878 &  0.1877379 &  0.6792353\\\\\n",
       "\tFila 2 &  2.0258648 &  3.0213836 &  4.4873507 & 17.0836731\\\\\n",
       "\tFila 3 & 18.4251366 & 19.3634033 &  4.6963759 &  4.8120639\\\\\n",
       "\tFila 4 & 53.5041682 &  5.6860201 & 43.3990125 & 14.4513029\\\\\n",
       "\\end{tabular}\n"
      ],
      "text/markdown": [
       "\n",
       "A matrix: 4 × 4 of type dbl\n",
       "\n",
       "| <!--/--> | Columna 1 | Columna 2 | Columna 3 | Columna 4 |\n",
       "|---|---|---|---|---|\n",
       "| Fila 1 |  0.2269756 |  0.6348878 |  0.1877379 |  0.6792353 |\n",
       "| Fila 2 |  2.0258648 |  3.0213836 |  4.4873507 | 17.0836731 |\n",
       "| Fila 3 | 18.4251366 | 19.3634033 |  4.6963759 |  4.8120639 |\n",
       "| Fila 4 | 53.5041682 |  5.6860201 | 43.3990125 | 14.4513029 |\n",
       "\n"
      ],
      "text/plain": [
       "       Columna 1  Columna 2  Columna 3  Columna 4 \n",
       "Fila 1  0.2269756  0.6348878  0.1877379  0.6792353\n",
       "Fila 2  2.0258648  3.0213836  4.4873507 17.0836731\n",
       "Fila 3 18.4251366 19.3634033  4.6963759  4.8120639\n",
       "Fila 4 53.5041682  5.6860201 43.3990125 14.4513029"
      ]
     },
     "metadata": {},
     "output_type": "display_data"
    }
   ],
   "source": [
    "poisson = rpois(n = 16, lambda = 0.5)\n",
    "A1 = matrix(\n",
    "    data = poisson,\n",
    "    nrow = 4,\n",
    "    ncol = 4,\n",
    "    byrow = TRUE,\n",
    "    dimnames = list(\n",
    "        c(\"Fila 1\", \"Fila 2\", \"Fila 3\", \"Fila 4\"),\n",
    "        c(\"Columna 1\", \"Columna 2\", \"Columna 3\", \"Columna 4\")\n",
    "    )\n",
    ")\n",
    "A1\n",
    "\n",
    "xi_cuadrado = rchisq(n = 16, df = 3, ncp = 0.5)\n",
    "\n",
    "A2 = matrix(\n",
    "    data = xi_cuadrado,\n",
    "    nrow = 4,\n",
    "    ncol = 4,\n",
    "    byrow = TRUE,\n",
    "    dimnames = list(\n",
    "        c(\"Fila 1\", \"Fila 2\", \"Fila 3\", \"Fila 4\"),\n",
    "        c(\"Columna 1\", \"Columna 2\", \"Columna 3\", \"Columna 4\")\n",
    "    )\n",
    ")\n",
    "A2\n",
    "\n",
    "gamma = rgamma(n = 16, shape = 1, scale = c(1:16))\n",
    "\n",
    "A3 = matrix(\n",
    "    data = gamma,\n",
    "    nrow = 4,\n",
    "    ncol = 4,\n",
    "    byrow = TRUE,\n",
    "    dimnames = list(\n",
    "        c(\"Fila 1\", \"Fila 2\", \"Fila 3\", \"Fila 4\"),\n",
    "        c(\"Columna 1\", \"Columna 2\", \"Columna 3\", \"Columna 4\")\n",
    "    )\n",
    ")\n",
    "A3"
   ]
  },
  {
   "cell_type": "code",
   "execution_count": null,
   "metadata": {},
   "outputs": [],
   "source": [
    "A1\n",
    "A2\n",
    "A3"
   ]
  },
  {
   "cell_type": "markdown",
   "metadata": {},
   "source": [
    "# Pregunta 4\n",
    "\n",
    "Construya un marco de datos llamado notas con la siguiente información."
   ]
  },
  {
   "cell_type": "code",
   "execution_count": 78,
   "metadata": {},
   "outputs": [
    {
     "data": {
      "text/html": [
       "<table>\n",
       "<caption>A data.frame: 3 × 4</caption>\n",
       "<thead>\n",
       "\t<tr><th scope=col>students</th><th scope=col>exam_1</th><th scope=col>exam_2</th><th scope=col>homework</th></tr>\n",
       "\t<tr><th scope=col>&lt;fct&gt;</th><th scope=col>&lt;dbl&gt;</th><th scope=col>&lt;dbl&gt;</th><th scope=col>&lt;dbl&gt;</th></tr>\n",
       "</thead>\n",
       "<tbody>\n",
       "\t<tr><td>Antonio </td><td>7</td><td>9</td><td>8</td></tr>\n",
       "\t<tr><td>Berenice</td><td>6</td><td>6</td><td>7</td></tr>\n",
       "\t<tr><td>Carlos  </td><td>8</td><td>8</td><td>9</td></tr>\n",
       "</tbody>\n",
       "</table>\n"
      ],
      "text/latex": [
       "A data.frame: 3 × 4\n",
       "\\begin{tabular}{r|llll}\n",
       " students & exam\\_1 & exam\\_2 & homework\\\\\n",
       " <fct> & <dbl> & <dbl> & <dbl>\\\\\n",
       "\\hline\n",
       "\t Antonio  & 7 & 9 & 8\\\\\n",
       "\t Berenice & 6 & 6 & 7\\\\\n",
       "\t Carlos   & 8 & 8 & 9\\\\\n",
       "\\end{tabular}\n"
      ],
      "text/markdown": [
       "\n",
       "A data.frame: 3 × 4\n",
       "\n",
       "| students &lt;fct&gt; | exam_1 &lt;dbl&gt; | exam_2 &lt;dbl&gt; | homework &lt;dbl&gt; |\n",
       "|---|---|---|---|\n",
       "| Antonio  | 7 | 9 | 8 |\n",
       "| Berenice | 6 | 6 | 7 |\n",
       "| Carlos   | 8 | 8 | 9 |\n",
       "\n"
      ],
      "text/plain": [
       "  students exam_1 exam_2 homework\n",
       "1 Antonio  7      9      8       \n",
       "2 Berenice 6      6      7       \n",
       "3 Carlos   8      8      9       "
      ]
     },
     "metadata": {},
     "output_type": "display_data"
    }
   ],
   "source": [
    "exam_1 <- c(7, 6, 8)\n",
    "exam_2 <- c(9, 6, 8)\n",
    "homework <- c(8, 7, 9)\n",
    "students <- c('Antonio', 'Berenice', 'Carlos')\n",
    "\n",
    "grades <- data.frame(students, exam_1, exam_2, homework)\n",
    "grades"
   ]
  },
  {
   "cell_type": "code",
   "execution_count": 50,
   "metadata": {},
   "outputs": [
    {
     "name": "stdout",
     "output_type": "stream",
     "text": [
      "[1] \"Mostrar las notas de Antonio:\"\n"
     ]
    },
    {
     "data": {
      "text/html": [
       "<table>\n",
       "<caption>A data.frame: 1 × 3</caption>\n",
       "<thead>\n",
       "\t<tr><th scope=col>exam_1</th><th scope=col>exam_2</th><th scope=col>homework</th></tr>\n",
       "\t<tr><th scope=col>&lt;dbl&gt;</th><th scope=col>&lt;dbl&gt;</th><th scope=col>&lt;dbl&gt;</th></tr>\n",
       "</thead>\n",
       "<tbody>\n",
       "\t<tr><td>7</td><td>9</td><td>8</td></tr>\n",
       "</tbody>\n",
       "</table>\n"
      ],
      "text/latex": [
       "A data.frame: 1 × 3\n",
       "\\begin{tabular}{r|lll}\n",
       " exam\\_1 & exam\\_2 & homework\\\\\n",
       " <dbl> & <dbl> & <dbl>\\\\\n",
       "\\hline\n",
       "\t 7 & 9 & 8\\\\\n",
       "\\end{tabular}\n"
      ],
      "text/markdown": [
       "\n",
       "A data.frame: 1 × 3\n",
       "\n",
       "| exam_1 &lt;dbl&gt; | exam_2 &lt;dbl&gt; | homework &lt;dbl&gt; |\n",
       "|---|---|---|\n",
       "| 7 | 9 | 8 |\n",
       "\n"
      ],
      "text/plain": [
       "  exam_1 exam_2 homework\n",
       "1 7      9      8       "
      ]
     },
     "metadata": {},
     "output_type": "display_data"
    },
    {
     "name": "stdout",
     "output_type": "stream",
     "text": [
      "[1] \"Mostrar las notas de Berenice:\"\n"
     ]
    },
    {
     "data": {
      "text/html": [
       "<table>\n",
       "<caption>A data.frame: 1 × 3</caption>\n",
       "<thead>\n",
       "\t<tr><th></th><th scope=col>exam_1</th><th scope=col>exam_2</th><th scope=col>homework</th></tr>\n",
       "\t<tr><th></th><th scope=col>&lt;dbl&gt;</th><th scope=col>&lt;dbl&gt;</th><th scope=col>&lt;dbl&gt;</th></tr>\n",
       "</thead>\n",
       "<tbody>\n",
       "\t<tr><th scope=row>2</th><td>6</td><td>6</td><td>7</td></tr>\n",
       "</tbody>\n",
       "</table>\n"
      ],
      "text/latex": [
       "A data.frame: 1 × 3\n",
       "\\begin{tabular}{r|lll}\n",
       "  & exam\\_1 & exam\\_2 & homework\\\\\n",
       "  & <dbl> & <dbl> & <dbl>\\\\\n",
       "\\hline\n",
       "\t2 & 6 & 6 & 7\\\\\n",
       "\\end{tabular}\n"
      ],
      "text/markdown": [
       "\n",
       "A data.frame: 1 × 3\n",
       "\n",
       "| <!--/--> | exam_1 &lt;dbl&gt; | exam_2 &lt;dbl&gt; | homework &lt;dbl&gt; |\n",
       "|---|---|---|---|\n",
       "| 2 | 6 | 6 | 7 |\n",
       "\n"
      ],
      "text/plain": [
       "  exam_1 exam_2 homework\n",
       "2 6      6      7       "
      ]
     },
     "metadata": {},
     "output_type": "display_data"
    },
    {
     "name": "stdout",
     "output_type": "stream",
     "text": [
      "[1] \"Mostrar las notas de Carlos:\"\n"
     ]
    },
    {
     "data": {
      "text/html": [
       "<table>\n",
       "<caption>A data.frame: 1 × 3</caption>\n",
       "<thead>\n",
       "\t<tr><th></th><th scope=col>exam_1</th><th scope=col>exam_2</th><th scope=col>homework</th></tr>\n",
       "\t<tr><th></th><th scope=col>&lt;dbl&gt;</th><th scope=col>&lt;dbl&gt;</th><th scope=col>&lt;dbl&gt;</th></tr>\n",
       "</thead>\n",
       "<tbody>\n",
       "\t<tr><th scope=row>3</th><td>8</td><td>8</td><td>9</td></tr>\n",
       "</tbody>\n",
       "</table>\n"
      ],
      "text/latex": [
       "A data.frame: 1 × 3\n",
       "\\begin{tabular}{r|lll}\n",
       "  & exam\\_1 & exam\\_2 & homework\\\\\n",
       "  & <dbl> & <dbl> & <dbl>\\\\\n",
       "\\hline\n",
       "\t3 & 8 & 8 & 9\\\\\n",
       "\\end{tabular}\n"
      ],
      "text/markdown": [
       "\n",
       "A data.frame: 1 × 3\n",
       "\n",
       "| <!--/--> | exam_1 &lt;dbl&gt; | exam_2 &lt;dbl&gt; | homework &lt;dbl&gt; |\n",
       "|---|---|---|---|\n",
       "| 3 | 8 | 8 | 9 |\n",
       "\n"
      ],
      "text/plain": [
       "  exam_1 exam_2 homework\n",
       "3 8      8      9       "
      ]
     },
     "metadata": {},
     "output_type": "display_data"
    }
   ],
   "source": [
    "print(\"Mostrar las notas de Antonio:\"); grades[1, 2:4]\n",
    "print(\"Mostrar las notas de Berenice:\"); grades[2, 2:4]\n",
    "print(\"Mostrar las notas de Carlos:\"); grades[3, 2:4]"
   ]
  },
  {
   "cell_type": "code",
   "execution_count": 51,
   "metadata": {},
   "outputs": [
    {
     "name": "stdout",
     "output_type": "stream",
     "text": [
      "[1] \"Mostrar las notas del primer examen:\"\n"
     ]
    },
    {
     "data": {
      "text/html": [
       "<table>\n",
       "<caption>A data.frame: 3 × 1</caption>\n",
       "<thead>\n",
       "\t<tr><th scope=col>exam_1</th></tr>\n",
       "\t<tr><th scope=col>&lt;dbl&gt;</th></tr>\n",
       "</thead>\n",
       "<tbody>\n",
       "\t<tr><td>7</td></tr>\n",
       "\t<tr><td>6</td></tr>\n",
       "\t<tr><td>8</td></tr>\n",
       "</tbody>\n",
       "</table>\n"
      ],
      "text/latex": [
       "A data.frame: 3 × 1\n",
       "\\begin{tabular}{r|l}\n",
       " exam\\_1\\\\\n",
       " <dbl>\\\\\n",
       "\\hline\n",
       "\t 7\\\\\n",
       "\t 6\\\\\n",
       "\t 8\\\\\n",
       "\\end{tabular}\n"
      ],
      "text/markdown": [
       "\n",
       "A data.frame: 3 × 1\n",
       "\n",
       "| exam_1 &lt;dbl&gt; |\n",
       "|---|\n",
       "| 7 |\n",
       "| 6 |\n",
       "| 8 |\n",
       "\n"
      ],
      "text/plain": [
       "  exam_1\n",
       "1 7     \n",
       "2 6     \n",
       "3 8     "
      ]
     },
     "metadata": {},
     "output_type": "display_data"
    },
    {
     "name": "stdout",
     "output_type": "stream",
     "text": [
      "[1] \"Mostrar las notas del segundo examen:\"\n"
     ]
    },
    {
     "data": {
      "text/html": [
       "<table>\n",
       "<caption>A data.frame: 3 × 1</caption>\n",
       "<thead>\n",
       "\t<tr><th scope=col>exam_2</th></tr>\n",
       "\t<tr><th scope=col>&lt;dbl&gt;</th></tr>\n",
       "</thead>\n",
       "<tbody>\n",
       "\t<tr><td>9</td></tr>\n",
       "\t<tr><td>6</td></tr>\n",
       "\t<tr><td>8</td></tr>\n",
       "</tbody>\n",
       "</table>\n"
      ],
      "text/latex": [
       "A data.frame: 3 × 1\n",
       "\\begin{tabular}{r|l}\n",
       " exam\\_2\\\\\n",
       " <dbl>\\\\\n",
       "\\hline\n",
       "\t 9\\\\\n",
       "\t 6\\\\\n",
       "\t 8\\\\\n",
       "\\end{tabular}\n"
      ],
      "text/markdown": [
       "\n",
       "A data.frame: 3 × 1\n",
       "\n",
       "| exam_2 &lt;dbl&gt; |\n",
       "|---|\n",
       "| 9 |\n",
       "| 6 |\n",
       "| 8 |\n",
       "\n"
      ],
      "text/plain": [
       "  exam_2\n",
       "1 9     \n",
       "2 6     \n",
       "3 8     "
      ]
     },
     "metadata": {},
     "output_type": "display_data"
    },
    {
     "name": "stdout",
     "output_type": "stream",
     "text": [
      "[1] \"Mostrar las notas de la tarea:\"\n"
     ]
    },
    {
     "data": {
      "text/html": [
       "<table>\n",
       "<caption>A data.frame: 3 × 1</caption>\n",
       "<thead>\n",
       "\t<tr><th scope=col>homework</th></tr>\n",
       "\t<tr><th scope=col>&lt;dbl&gt;</th></tr>\n",
       "</thead>\n",
       "<tbody>\n",
       "\t<tr><td>8</td></tr>\n",
       "\t<tr><td>7</td></tr>\n",
       "\t<tr><td>9</td></tr>\n",
       "</tbody>\n",
       "</table>\n"
      ],
      "text/latex": [
       "A data.frame: 3 × 1\n",
       "\\begin{tabular}{r|l}\n",
       " homework\\\\\n",
       " <dbl>\\\\\n",
       "\\hline\n",
       "\t 8\\\\\n",
       "\t 7\\\\\n",
       "\t 9\\\\\n",
       "\\end{tabular}\n"
      ],
      "text/markdown": [
       "\n",
       "A data.frame: 3 × 1\n",
       "\n",
       "| homework &lt;dbl&gt; |\n",
       "|---|\n",
       "| 8 |\n",
       "| 7 |\n",
       "| 9 |\n",
       "\n"
      ],
      "text/plain": [
       "  homework\n",
       "1 8       \n",
       "2 7       \n",
       "3 9       "
      ]
     },
     "metadata": {},
     "output_type": "display_data"
    }
   ],
   "source": [
    "print(\"Mostrar las notas del primer examen:\"); grades[2]\n",
    "print(\"Mostrar las notas del segundo examen:\"); grades[3]\n",
    "print(\"Mostrar las notas de la tarea:\"); grades[4]"
   ]
  },
  {
   "cell_type": "code",
   "execution_count": 53,
   "metadata": {},
   "outputs": [
    {
     "name": "stdout",
     "output_type": "stream",
     "text": [
      "[1] \"Mostrar la nota máxima de Antonio:\"\n"
     ]
    },
    {
     "data": {
      "text/html": [
       "9"
      ],
      "text/latex": [
       "9"
      ],
      "text/markdown": [
       "9"
      ],
      "text/plain": [
       "[1] 9"
      ]
     },
     "metadata": {},
     "output_type": "display_data"
    },
    {
     "name": "stdout",
     "output_type": "stream",
     "text": [
      "[1] \"Mostrar la nota máxima de Berenice:\"\n"
     ]
    },
    {
     "data": {
      "text/html": [
       "7"
      ],
      "text/latex": [
       "7"
      ],
      "text/markdown": [
       "7"
      ],
      "text/plain": [
       "[1] 7"
      ]
     },
     "metadata": {},
     "output_type": "display_data"
    },
    {
     "name": "stdout",
     "output_type": "stream",
     "text": [
      "[1] \"Mostrar la nota máxima de Carlos:\"\n"
     ]
    },
    {
     "data": {
      "text/html": [
       "9"
      ],
      "text/latex": [
       "9"
      ],
      "text/markdown": [
       "9"
      ],
      "text/plain": [
       "[1] 9"
      ]
     },
     "metadata": {},
     "output_type": "display_data"
    }
   ],
   "source": [
    "print(\"Mostrar la nota máxima de Antonio:\"); max(grades[1, 2:4]) \n",
    "print(\"Mostrar la nota máxima de Berenice:\"); max(grades[2, 2:4])\n",
    "print(\"Mostrar la nota máxima de Carlos:\"); max(grades[3, 2:4])"
   ]
  },
  {
   "cell_type": "code",
   "execution_count": 103,
   "metadata": {},
   "outputs": [
    {
     "name": "stdout",
     "output_type": "stream",
     "text": [
      "[1] \"Mostrar el promedio de notas de Antonio:\"\n"
     ]
    },
    {
     "data": {
      "text/html": [
       "8"
      ],
      "text/latex": [
       "8"
      ],
      "text/markdown": [
       "8"
      ],
      "text/plain": [
       "[1] 8"
      ]
     },
     "metadata": {},
     "output_type": "display_data"
    },
    {
     "name": "stdout",
     "output_type": "stream",
     "text": [
      "[1] \"Mostrar el promedio de notas de Berenice:\"\n"
     ]
    },
    {
     "data": {
      "text/html": [
       "6.33333333333333"
      ],
      "text/latex": [
       "6.33333333333333"
      ],
      "text/markdown": [
       "6.33333333333333"
      ],
      "text/plain": [
       "[1] 6.333333"
      ]
     },
     "metadata": {},
     "output_type": "display_data"
    },
    {
     "name": "stdout",
     "output_type": "stream",
     "text": [
      "[1] \"Mostrar el promedio de notas de Carlos:\"\n"
     ]
    },
    {
     "data": {
      "text/html": [
       "8.33333333333333"
      ],
      "text/latex": [
       "8.33333333333333"
      ],
      "text/markdown": [
       "8.33333333333333"
      ],
      "text/plain": [
       "[1] 8.333333"
      ]
     },
     "metadata": {},
     "output_type": "display_data"
    }
   ],
   "source": [
    "print(\"Mostrar el promedio de notas de Antonio:\"); as.vector(rowMeans(grades[-1]))[1]\n",
    "print(\"Mostrar el promedio de notas de Berenice:\"); as.vector(rowMeans(grades[-1]))[2]\n",
    "print(\"Mostrar el promedio de notas de Carlos:\"); as.vector(rowMeans(grades[-1]))[3]"
   ]
  },
  {
   "cell_type": "markdown",
   "metadata": {},
   "source": [
    "# Pregunta 5\n",
    "\n",
    "Cargue el marco de datos `mtcars` brindado por R.\n",
    "   - Describa que ofrece dicha data.\n",
    "   - Usando las herramientas presentadas hasta el momento, explote todo el potencial de la data `mtcars`."
   ]
  },
  {
   "cell_type": "markdown",
   "metadata": {},
   "source": [
    "Los datos se extrajeron de la revista Motor Trend US de 1974 y comprenden el consumo de combustible y 10 aspectos del diseño y rendimiento de automóviles para 32 automóviles (modelos 1973-74).\n",
    "\n",
    "Un marco de datos con 32 observaciones en 11 variables (numéricas)."
   ]
  },
  {
   "cell_type": "code",
   "execution_count": 104,
   "metadata": {},
   "outputs": [
    {
     "data": {
      "text/plain": [
       "      mpg             cyl             disp             hp       \n",
       " Min.   :10.40   Min.   :4.000   Min.   : 71.1   Min.   : 52.0  \n",
       " 1st Qu.:15.43   1st Qu.:4.000   1st Qu.:120.8   1st Qu.: 96.5  \n",
       " Median :19.20   Median :6.000   Median :196.3   Median :123.0  \n",
       " Mean   :20.09   Mean   :6.188   Mean   :230.7   Mean   :146.7  \n",
       " 3rd Qu.:22.80   3rd Qu.:8.000   3rd Qu.:326.0   3rd Qu.:180.0  \n",
       " Max.   :33.90   Max.   :8.000   Max.   :472.0   Max.   :335.0  \n",
       "      drat             wt             qsec             vs        \n",
       " Min.   :2.760   Min.   :1.513   Min.   :14.50   Min.   :0.0000  \n",
       " 1st Qu.:3.080   1st Qu.:2.581   1st Qu.:16.89   1st Qu.:0.0000  \n",
       " Median :3.695   Median :3.325   Median :17.71   Median :0.0000  \n",
       " Mean   :3.597   Mean   :3.217   Mean   :17.85   Mean   :0.4375  \n",
       " 3rd Qu.:3.920   3rd Qu.:3.610   3rd Qu.:18.90   3rd Qu.:1.0000  \n",
       " Max.   :4.930   Max.   :5.424   Max.   :22.90   Max.   :1.0000  \n",
       "       am              gear            carb      \n",
       " Min.   :0.0000   Min.   :3.000   Min.   :1.000  \n",
       " 1st Qu.:0.0000   1st Qu.:3.000   1st Qu.:2.000  \n",
       " Median :0.0000   Median :4.000   Median :2.000  \n",
       " Mean   :0.4062   Mean   :3.688   Mean   :2.812  \n",
       " 3rd Qu.:1.0000   3rd Qu.:4.000   3rd Qu.:4.000  \n",
       " Max.   :1.0000   Max.   :5.000   Max.   :8.000  "
      ]
     },
     "metadata": {},
     "output_type": "display_data"
    }
   ],
   "source": [
    "summary(mtcars)"
   ]
  },
  {
   "cell_type": "code",
   "execution_count": 105,
   "metadata": {},
   "outputs": [
    {
     "name": "stdout",
     "output_type": "stream",
     "text": [
      "'data.frame':\t32 obs. of  11 variables:\n",
      " $ mpg : num  21 21 22.8 21.4 18.7 18.1 14.3 24.4 22.8 19.2 ...\n",
      " $ cyl : num  6 6 4 6 8 6 8 4 4 6 ...\n",
      " $ disp: num  160 160 108 258 360 ...\n",
      " $ hp  : num  110 110 93 110 175 105 245 62 95 123 ...\n",
      " $ drat: num  3.9 3.9 3.85 3.08 3.15 2.76 3.21 3.69 3.92 3.92 ...\n",
      " $ wt  : num  2.62 2.88 2.32 3.21 3.44 ...\n",
      " $ qsec: num  16.5 17 18.6 19.4 17 ...\n",
      " $ vs  : num  0 0 1 1 0 1 0 1 1 1 ...\n",
      " $ am  : num  1 1 1 0 0 0 0 0 0 0 ...\n",
      " $ gear: num  4 4 4 3 3 3 3 4 4 4 ...\n",
      " $ carb: num  4 4 1 1 2 1 4 2 2 4 ...\n"
     ]
    }
   ],
   "source": [
    "str(mtcars)"
   ]
  },
  {
   "cell_type": "code",
   "execution_count": 106,
   "metadata": {},
   "outputs": [
    {
     "data": {
      "text/html": [
       "'numeric'"
      ],
      "text/latex": [
       "'numeric'"
      ],
      "text/markdown": [
       "'numeric'"
      ],
      "text/plain": [
       "[1] \"numeric\""
      ]
     },
     "metadata": {},
     "output_type": "display_data"
    }
   ],
   "source": [
    "class(mtcars$vs)"
   ]
  },
  {
   "cell_type": "markdown",
   "metadata": {},
   "source": [
    "# Información de la sesión"
   ]
  },
  {
   "cell_type": "code",
   "execution_count": 17,
   "metadata": {},
   "outputs": [
    {
     "data": {
      "text/plain": [
       "R version 3.6.1 (2019-07-05)\n",
       "Platform: x86_64-pc-linux-gnu (64-bit)\n",
       "Running under: Arch Linux\n",
       "\n",
       "Matrix products: default\n",
       "BLAS:   /usr/lib/libopenblasp-r0.3.6.so\n",
       "LAPACK: /usr/lib/liblapack.so.3.8.0\n",
       "\n",
       "locale:\n",
       " [1] LC_CTYPE=en_US.UTF-8       LC_NUMERIC=C              \n",
       " [3] LC_TIME=en_US.UTF-8        LC_COLLATE=en_US.UTF-8    \n",
       " [5] LC_MONETARY=en_US.UTF-8    LC_MESSAGES=en_US.UTF-8   \n",
       " [7] LC_PAPER=en_US.UTF-8       LC_NAME=C                 \n",
       " [9] LC_ADDRESS=C               LC_TELEPHONE=C            \n",
       "[11] LC_MEASUREMENT=en_US.UTF-8 LC_IDENTIFICATION=C       \n",
       "\n",
       "attached base packages:\n",
       "[1] stats     graphics  grDevices utils     datasets  methods   base     \n",
       "\n",
       "loaded via a namespace (and not attached):\n",
       " [1] Rcpp_1.0.2      digest_0.6.20   zeallot_0.1.0   crayon_1.3.4   \n",
       " [5] IRdisplay_0.7.0 repr_1.0.1      backports_1.1.4 jsonlite_1.6   \n",
       " [9] evaluate_0.14   pillar_1.4.2    rlang_0.4.0     uuid_0.1-2     \n",
       "[13] vctrs_0.2.0     IRkernel_1.0.2  tools_3.6.1     compiler_3.6.1 \n",
       "[17] pkgconfig_2.0.2 base64enc_0.1-3 htmltools_0.3.6 pbdZMQ_0.3-3   \n",
       "[21] tibble_2.1.3   "
      ]
     },
     "metadata": {},
     "output_type": "display_data"
    }
   ],
   "source": [
    "sessionInfo()"
   ]
  }
 ],
 "metadata": {
  "kernelspec": {
   "display_name": "R",
   "language": "R",
   "name": "ir"
  },
  "language_info": {
   "codemirror_mode": "r",
   "file_extension": ".r",
   "mimetype": "text/x-r-source",
   "name": "R",
   "pygments_lexer": "r",
   "version": "3.6.1"
  }
 },
 "nbformat": 4,
 "nbformat_minor": 2
}
